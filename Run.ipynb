{
  "cells": [
    {
      "cell_type": "markdown",
      "source": [
        "# **Importing all the packages**"
      ],
      "metadata": {
        "id": "Ogz6WaMRrPdd"
      }
    },
    {
      "cell_type": "code",
      "execution_count": 1,
      "metadata": {
        "id": "wnYaIq_WFkPV"
      },
      "outputs": [],
      "source": [
        "import keras\n",
        "import pandas as pd\n",
        "import numpy as np\n",
        "import math\n",
        "from google.colab import drive\n",
        "import pickle\n",
        "from sklearn.metrics import mean_squared_error, mean_absolute_error\n",
        "from keras.models import Sequential\n",
        "from keras.layers import Dense, Conv1D, Flatten\n",
        "from keras.layers import Input, LSTM, Dense, Dropout, TimeDistributed\n",
        "import tensorflow as tf\n",
        "import matplotlib.pyplot as plt\n",
        "from pickle import dump, load\n",
        "from sklearn.preprocessing import StandardScaler"
      ]
    },
    {
      "cell_type": "markdown",
      "source": [
        "# **Installing the required packages**"
      ],
      "metadata": {
        "id": "EwKK2v4kr99J"
      }
    },
    {
      "cell_type": "code",
      "execution_count": null,
      "metadata": {
        "id": "pAChzkveXLht"
      },
      "outputs": [],
      "source": [
        "!pip install streamlit\n",
        "!pip install selenium\n",
        "!apt-get update\n",
        "!apt install chromium-chromedriver"
      ]
    },
    {
      "cell_type": "markdown",
      "source": [
        "# **Running the \"Main.py\" file**"
      ],
      "metadata": {
        "id": "REuX9SXEXBSd"
      }
    },
    {
      "cell_type": "code",
      "execution_count": null,
      "metadata": {
        "id": "wxQmz1EmFpNW"
      },
      "outputs": [],
      "source": [
        "!python /content/drive/MyDrive/1Crop-Recommendation-System-ACRE--main/src/Main.py"
      ]
    }
  ],
  "metadata": {
    "colab": {
      "name": "MTech_Project_Recommendation.ipynb",
      "provenance": [],
      "collapsed_sections": []
    },
    "kernelspec": {
      "display_name": "Python 3",
      "name": "python3"
    },
    "language_info": {
      "name": "python"
    }
  },
  "nbformat": 4,
  "nbformat_minor": 0
}